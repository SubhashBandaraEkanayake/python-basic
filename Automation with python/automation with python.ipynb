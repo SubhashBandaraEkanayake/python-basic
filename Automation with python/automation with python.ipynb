{
 "cells": [
  {
   "cell_type": "code",
   "execution_count": 16,
   "metadata": {},
   "outputs": [
    {
     "name": "stdout",
     "output_type": "stream",
     "text": [
      "transaction_id\n"
     ]
    }
   ],
   "source": [
    "import openpyxl as xl\n",
    "wb = xl.load_workbook('transactions.xlsx')#loading workbook\n",
    "sheet = wb['Sheet1'] #Accesing sheet that we want\n",
    "cell = sheet['A1'] #The cell \n",
    "cell = sheet.cell(1,1)\n",
    "print(cell.value)"
   ]
  },
  {
   "cell_type": "code",
   "execution_count": 17,
   "metadata": {},
   "outputs": [
    {
     "name": "stdout",
     "output_type": "stream",
     "text": [
      "4\n"
     ]
    }
   ],
   "source": [
    "print(sheet.max_row)"
   ]
  },
  {
   "cell_type": "code",
   "execution_count": 18,
   "metadata": {},
   "outputs": [
    {
     "name": "stdout",
     "output_type": "stream",
     "text": [
      "4\n"
     ]
    }
   ],
   "source": [
    "print(sheet.max_column)"
   ]
  },
  {
   "cell_type": "code",
   "execution_count": 19,
   "metadata": {},
   "outputs": [],
   "source": [
    "for row in range(2,sheet.max_row+1):\n",
    "    cell = sheet.cell(row,3)\n",
    "    correctedPrice = cell.value * 0.9 \n",
    "    correctedPriceCell = sheet.cell(row,4)\n",
    "    correctedPriceCell.value = correctedPrice\n",
    "    \n",
    "\n",
    "wb.save('transactions2.xlsx')"
   ]
  },
  {
   "cell_type": "code",
   "execution_count": 21,
   "metadata": {},
   "outputs": [],
   "source": [
    "from openpyxl.chart import BarChart, Reference\n",
    "import openpyxl as xl\n",
    "\n",
    "wb = xl.load_workbook('transactions.xlsx')#loading workbook\n",
    "sheet = wb['Sheet1'] #Accesing sheet that we want\n",
    "cell = sheet['A1'] #The cell \n",
    "cell = sheet.cell(1,1)\n",
    "\n",
    "for row in range(2,sheet.max_row+1):\n",
    "    cell = sheet.cell(row,3)\n",
    "    correctedPrice = cell.value * 0.9 \n",
    "    correctedPriceCell = sheet.cell(row,4)\n",
    "    correctedPriceCell.value = correctedPrice\n",
    "    \n",
    "values = Reference(sheet, min_row=2 ,max_row=sheet.max_row,min_col=4,max_col=4)\n",
    "\n",
    "chart = BarChart()\n",
    "chart.add_data(values)\n",
    "sheet.add_chart(chart, 'e2')\n",
    "\n",
    "wb.save('transactions3.xlsx')\n"
   ]
  },
  {
   "cell_type": "code",
   "execution_count": null,
   "metadata": {},
   "outputs": [],
   "source": []
  }
 ],
 "metadata": {
  "kernelspec": {
   "display_name": "base",
   "language": "python",
   "name": "python3"
  },
  "language_info": {
   "codemirror_mode": {
    "name": "ipython",
    "version": 3
   },
   "file_extension": ".py",
   "mimetype": "text/x-python",
   "name": "python",
   "nbconvert_exporter": "python",
   "pygments_lexer": "ipython3",
   "version": "3.11.5"
  }
 },
 "nbformat": 4,
 "nbformat_minor": 2
}

{
  "nbformat": 4,
  "nbformat_minor": 0,
  "metadata": {
    "colab": {
      "provenance": [],
      "mount_file_id": "1UYGRkcyto_ieenwJsK77Qq0Mshs5seLm",
      "authorship_tag": "ABX9TyMBw+K3heR5NOG9N/T7+X5p",
      "include_colab_link": true
    },
    "kernelspec": {
      "name": "python3",
      "display_name": "Python 3"
    },
    "language_info": {
      "name": "python"
    }
  },
  "cells": [
    {
      "cell_type": "markdown",
      "metadata": {
        "id": "view-in-github",
        "colab_type": "text"
      },
      "source": [
        "<a href=\"https://colab.research.google.com/github/SubhashBandaraEkanayake/python-basic/blob/main/python_lec_8_3.ipynb\" target=\"_parent\"><img src=\"https://colab.research.google.com/assets/colab-badge.svg\" alt=\"Open In Colab\"/></a>"
      ]
    },
    {
      "cell_type": "code",
      "execution_count": null,
      "metadata": {
        "colab": {
          "base_uri": "https://localhost:8080/"
        },
        "id": "90IbdI9jslNL",
        "outputId": "74c298c4-58fb-461c-c915-27b201e6d497"
      },
      "outputs": [
        {
          "output_type": "stream",
          "name": "stdout",
          "text": [
            "Hello world\n"
          ]
        }
      ],
      "source": [
        "print(\"Hello world\")"
      ]
    },
    {
      "cell_type": "code",
      "source": [
        "x = 5\n",
        "y = \"John\"\n",
        "print(x)print(y)\n"
      ],
      "metadata": {
        "colab": {
          "base_uri": "https://localhost:8080/",
          "height": 106
        },
        "id": "7OFdVqe6s7DE",
        "outputId": "6e9c8b23-8491-4983-ce18-a6f3ae152ffc"
      },
      "execution_count": null,
      "outputs": [
        {
          "output_type": "error",
          "ename": "SyntaxError",
          "evalue": "invalid syntax (<ipython-input-5-c7011aae5ff8>, line 3)",
          "traceback": [
            "\u001b[0;36m  File \u001b[0;32m\"<ipython-input-5-c7011aae5ff8>\"\u001b[0;36m, line \u001b[0;32m3\u001b[0m\n\u001b[0;31m    print(x)print(y)\u001b[0m\n\u001b[0m            ^\u001b[0m\n\u001b[0;31mSyntaxError\u001b[0m\u001b[0;31m:\u001b[0m invalid syntax\n"
          ]
        }
      ]
    },
    {
      "cell_type": "code",
      "source": [
        "x = 5\n",
        "y = \"John\"\n",
        "print(x);print(y) #';' presents end of the line"
      ],
      "metadata": {
        "colab": {
          "base_uri": "https://localhost:8080/"
        },
        "id": "ksqMUooZtI06",
        "outputId": "1769d479-cc9a-4635-fce2-bf12698dc73a"
      },
      "execution_count": null,
      "outputs": [
        {
          "output_type": "stream",
          "name": "stdout",
          "text": [
            "5\n",
            "John\n"
          ]
        }
      ]
    },
    {
      "cell_type": "code",
      "source": [
        "y = 5;print(\"Hello Subhash\");x = 22;print(x+y);"
      ],
      "metadata": {
        "colab": {
          "base_uri": "https://localhost:8080/"
        },
        "id": "o4LNS3GmtONJ",
        "outputId": "7d32b65b-7b55-44fa-df84-73a1b07787ff"
      },
      "execution_count": null,
      "outputs": [
        {
          "output_type": "stream",
          "name": "stdout",
          "text": [
            "Hello Subhash\n",
            "27\n"
          ]
        }
      ]
    },
    {
      "cell_type": "markdown",
      "source": [
        "#illegal variables\n",
        "    2myvar = \"John\"\n",
        "    my-var = \"John\"\n",
        "    my var = \"John\""
      ],
      "metadata": {
        "id": "F-wj4IteuYOX"
      }
    },
    {
      "cell_type": "code",
      "source": [
        "x,y,z = 10,20,30\n",
        "print(x)\n",
        "print(y)\n",
        "print(z)"
      ],
      "metadata": {
        "colab": {
          "base_uri": "https://localhost:8080/"
        },
        "id": "D_ffvElfvZIm",
        "outputId": "35430a56-e012-4209-9b41-5b25274e6a06"
      },
      "execution_count": null,
      "outputs": [
        {
          "output_type": "stream",
          "name": "stdout",
          "text": [
            "10\n",
            "20\n",
            "30\n"
          ]
        }
      ]
    },
    {
      "cell_type": "code",
      "source": [
        "print(x,y,z)"
      ],
      "metadata": {
        "colab": {
          "base_uri": "https://localhost:8080/"
        },
        "id": "ZQr4r1ZWviVJ",
        "outputId": "d021cb4a-2b62-4f8a-a61c-3e01b38d6d1a"
      },
      "execution_count": null,
      "outputs": [
        {
          "output_type": "stream",
          "name": "stdout",
          "text": [
            "10 20 30\n"
          ]
        }
      ]
    },
    {
      "cell_type": "code",
      "source": [
        "#unpack a list\n",
        "fruits = [\"apple\", \"banana\", \"cherry\"]\n",
        "x, y, z = fruits\n",
        "print(x)\n",
        "print(y)\n",
        "print(z)"
      ],
      "metadata": {
        "colab": {
          "base_uri": "https://localhost:8080/"
        },
        "id": "E0ZV1asXv-j0",
        "outputId": "3c6d120a-ba79-43ad-f4dd-d973c49d69d5"
      },
      "execution_count": null,
      "outputs": [
        {
          "output_type": "stream",
          "name": "stdout",
          "text": [
            "apple\n",
            "banana\n",
            "cherry\n"
          ]
        }
      ]
    },
    {
      "cell_type": "code",
      "source": [
        "#Global variables\n",
        "'''\n",
        "Variables that are created outside of a function (as in all of the examples in the previous pages)\n",
        "are known as global variables.\n",
        "\n",
        "Global variables can be used by everyone, both inside of functions and outside.\n",
        "'''\n",
        "\n",
        "x = \"awesome\" #global variable\n",
        "\n",
        "def myfunc():\n",
        "  print(\"Python is \" + x)\n",
        "\n",
        "myfunc()\n",
        "\n"
      ],
      "metadata": {
        "colab": {
          "base_uri": "https://localhost:8080/"
        },
        "id": "PYYNTyvWwQYn",
        "outputId": "88263bf9-3079-4616-c20d-a7d09d217d85"
      },
      "execution_count": null,
      "outputs": [
        {
          "output_type": "stream",
          "name": "stdout",
          "text": [
            "Python is awesome\n"
          ]
        }
      ]
    },
    {
      "cell_type": "code",
      "source": [
        "x = \"awesome\" #global\n",
        "\n",
        "def myfunc():\n",
        "  x = \"fantastic\" #local\n",
        "  print(\"Python is \" + x)\n",
        "\n",
        "myfunc()\n",
        "\n",
        "print(\"Python is \" + x)"
      ],
      "metadata": {
        "colab": {
          "base_uri": "https://localhost:8080/"
        },
        "id": "WJ979r9fxy6j",
        "outputId": "4d4af455-aab8-4d0e-ef77-683f5b97fdd2"
      },
      "execution_count": null,
      "outputs": [
        {
          "output_type": "stream",
          "name": "stdout",
          "text": [
            "Python is fantastic\n",
            "Python is awesome\n"
          ]
        }
      ]
    },
    {
      "cell_type": "code",
      "source": [
        "#global key word\n",
        "\n",
        "'''\n",
        "Normally,when you create a variable inside a function,that variable is local.\n",
        "And can only be used inside that function\n",
        "\n",
        "\n",
        "To create a global variable inside a function,u can use 'global' key word\n",
        "'''\n",
        "\n",
        "\n",
        "def myFunc():\n",
        "  global x\n",
        "  x = 'fantastic'\n",
        "  print(\"PPython is \"+x)\n",
        "\n",
        "\n",
        "myFunc()\n",
        "\n",
        "print(\"Python is \"+x)"
      ],
      "metadata": {
        "colab": {
          "base_uri": "https://localhost:8080/"
        },
        "id": "JZKL-2xJx--1",
        "outputId": "ca206888-9c29-4111-942d-7652859177b1"
      },
      "execution_count": null,
      "outputs": [
        {
          "output_type": "stream",
          "name": "stdout",
          "text": [
            "PPython is fantastic\n",
            "Python is fantastic\n"
          ]
        }
      ]
    },
    {
      "cell_type": "markdown",
      "source": [
        "Python Data Types\n",
        "\n",
        "    Text Type:\t      str\n",
        "    Numeric Types:\t  int, float, complex\n",
        "    Sequence Types:\t  list, tuple, range\n",
        "    Mapping Type:\t    dict\n",
        "    Set Types:\t      set, frozenset\n",
        "    Boolean Type:\t    bool\n",
        "    Binary Types:\t    bytes, bytearray, memoryview\n",
        "    None Type:\t      NoneType"
      ],
      "metadata": {
        "id": "fzJqERJMzX0i"
      }
    },
    {
      "cell_type": "code",
      "source": [
        "a = 10\n",
        "print(a)\n",
        "print(type(a))\n",
        "type(a)"
      ],
      "metadata": {
        "colab": {
          "base_uri": "https://localhost:8080/"
        },
        "id": "IPzAj8r33qDc",
        "outputId": "8058279e-d49e-46fd-e184-029a7bb2e2f9"
      },
      "execution_count": null,
      "outputs": [
        {
          "output_type": "stream",
          "name": "stdout",
          "text": [
            "10\n",
            "<class 'int'>\n"
          ]
        },
        {
          "output_type": "execute_result",
          "data": {
            "text/plain": [
              "int"
            ]
          },
          "metadata": {},
          "execution_count": 20
        }
      ]
    },
    {
      "cell_type": "code",
      "source": [
        "#differentiate these different collective data types of python\n",
        "#List,tuple,set,dictionary,array"
      ],
      "metadata": {
        "id": "xCzGybXN5Dyx"
      },
      "execution_count": null,
      "outputs": []
    }
  ]
}